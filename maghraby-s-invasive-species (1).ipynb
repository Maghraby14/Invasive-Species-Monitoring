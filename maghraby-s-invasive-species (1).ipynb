{
 "cells": [
  {
   "cell_type": "code",
   "execution_count": 1,
   "id": "0f915690",
   "metadata": {
    "_cell_guid": "b1076dfc-b9ad-4769-8c92-a6c4dae69d19",
    "_uuid": "8f2839f25d086af736a60e9eeb907d3b93b6e0e5",
    "execution": {
     "iopub.execute_input": "2024-01-07T22:52:43.180440Z",
     "iopub.status.busy": "2024-01-07T22:52:43.180094Z",
     "iopub.status.idle": "2024-01-07T22:52:55.411805Z",
     "shell.execute_reply": "2024-01-07T22:52:55.410690Z"
    },
    "papermill": {
     "duration": 12.240015,
     "end_time": "2024-01-07T22:52:55.413936",
     "exception": false,
     "start_time": "2024-01-07T22:52:43.173921",
     "status": "completed"
    },
    "tags": []
   },
   "outputs": [
    {
     "name": "stderr",
     "output_type": "stream",
     "text": [
      "/opt/conda/lib/python3.10/site-packages/scipy/__init__.py:146: UserWarning: A NumPy version >=1.16.5 and <1.23.0 is required for this version of SciPy (detected version 1.24.3\n",
      "  warnings.warn(f\"A NumPy version >={np_minversion} and <{np_maxversion}\"\n"
     ]
    },
    {
     "name": "stdout",
     "output_type": "stream",
     "text": [
      "/kaggle/input/invasive-species-monitoring/train_labels.csv.zip\n",
      "/kaggle/input/invasive-species-monitoring/sample_submission.csv.zip\n",
      "/kaggle/input/invasive-species-monitoring/test.7z\n",
      "/kaggle/input/invasive-species-monitoring/train.7z\n"
     ]
    }
   ],
   "source": [
    "# This Python 3 environment comes with many helpful analytics libraries installed\n",
    "# It is defined by the kaggle/python Docker image: https://github.com/kaggle/docker-python\n",
    "# For example, here's several helpful packages to load\n",
    "\n",
    "import numpy as np # linear algebra\n",
    "import pandas as pd # data processing, CSV file I/O (e.g. pd.read_csv)\n",
    "import tensorflow as tf\n",
    "# Input data files are available in the read-only \"../input/\" directory\n",
    "# For example, running this (by clicking run or pressing Shift+Enter) will list all files under the input directory\n",
    "\n",
    "import os\n",
    "for dirname, _, filenames in os.walk('/kaggle/input'):\n",
    "    for filename in filenames:\n",
    "        print(os.path.join(dirname, filename))\n",
    "\n",
    "# You can write up to 20GB to the current directory (/kaggle/working/) that gets preserved as output when you create a version using \"Save & Run All\" \n",
    "# You can also write temporary files to /kaggle/temp/, but they won't be saved outside of the current session"
   ]
  },
  {
   "cell_type": "code",
   "execution_count": 2,
   "id": "7ae234ee",
   "metadata": {
    "execution": {
     "iopub.execute_input": "2024-01-07T22:52:55.424900Z",
     "iopub.status.busy": "2024-01-07T22:52:55.424401Z",
     "iopub.status.idle": "2024-01-07T22:57:16.009256Z",
     "shell.execute_reply": "2024-01-07T22:57:16.008099Z"
    },
    "papermill": {
     "duration": 260.593028,
     "end_time": "2024-01-07T22:57:16.011882",
     "exception": false,
     "start_time": "2024-01-07T22:52:55.418854",
     "status": "completed"
    },
    "tags": []
   },
   "outputs": [
    {
     "name": "stdout",
     "output_type": "stream",
     "text": [
      "Collecting py7zr\r\n",
      "  Obtaining dependency information for py7zr from https://files.pythonhosted.org/packages/c0/39/71263be4c6081e1788f4da35e937fca1808914b0d98a04bd44255b948699/py7zr-0.20.8-py3-none-any.whl.metadata\r\n",
      "  Downloading py7zr-0.20.8-py3-none-any.whl.metadata (16 kB)\r\n",
      "Requirement already satisfied: texttable in /opt/conda/lib/python3.10/site-packages (from py7zr) (1.7.0)\r\n",
      "Collecting pycryptodomex>=3.16.0 (from py7zr)\r\n",
      "  Obtaining dependency information for pycryptodomex>=3.16.0 from https://files.pythonhosted.org/packages/78/74/e22cc8c2bb5e4d746952b22a2f0ef98988851804c35d89890d8ea6c22f18/pycryptodomex-3.19.1-cp35-abi3-manylinux_2_17_x86_64.manylinux2014_x86_64.whl.metadata\r\n",
      "  Downloading pycryptodomex-3.19.1-cp35-abi3-manylinux_2_17_x86_64.manylinux2014_x86_64.whl.metadata (3.4 kB)\r\n",
      "Collecting pyzstd>=0.15.9 (from py7zr)\r\n",
      "  Obtaining dependency information for pyzstd>=0.15.9 from https://files.pythonhosted.org/packages/02/97/57de14ccb0d033464aabc5110eb2f9dc717c97e17f2ffc1235680a27e5de/pyzstd-0.15.9-cp310-cp310-manylinux_2_17_x86_64.manylinux2014_x86_64.whl.metadata\r\n",
      "  Downloading pyzstd-0.15.9-cp310-cp310-manylinux_2_17_x86_64.manylinux2014_x86_64.whl.metadata (7.5 kB)\r\n",
      "Collecting pyppmd<1.2.0,>=1.1.0 (from py7zr)\r\n",
      "  Obtaining dependency information for pyppmd<1.2.0,>=1.1.0 from https://files.pythonhosted.org/packages/09/76/61db4268a439cfba8736b14130d928d199633fab2360a2c5043332a427d2/pyppmd-1.1.0-cp310-cp310-manylinux_2_17_x86_64.manylinux2014_x86_64.whl.metadata\r\n",
      "  Downloading pyppmd-1.1.0-cp310-cp310-manylinux_2_17_x86_64.manylinux2014_x86_64.whl.metadata (5.7 kB)\r\n",
      "Collecting pybcj<1.1.0,>=1.0.0 (from py7zr)\r\n",
      "  Obtaining dependency information for pybcj<1.1.0,>=1.0.0 from https://files.pythonhosted.org/packages/09/70/8b6a6cc2a5721f67f629bdc17875c0d603d57f360a19b099a7b4de19383d/pybcj-1.0.2-cp310-cp310-manylinux_2_17_x86_64.manylinux2014_x86_64.whl.metadata\r\n",
      "  Downloading pybcj-1.0.2-cp310-cp310-manylinux_2_17_x86_64.manylinux2014_x86_64.whl.metadata (4.0 kB)\r\n",
      "Collecting multivolumefile>=0.2.3 (from py7zr)\r\n",
      "  Downloading multivolumefile-0.2.3-py3-none-any.whl (17 kB)\r\n",
      "Collecting inflate64<1.1.0,>=1.0.0 (from py7zr)\r\n",
      "  Obtaining dependency information for inflate64<1.1.0,>=1.0.0 from https://files.pythonhosted.org/packages/b8/f4/e387a50f5027194eac4f9712d57b97e3e1a012402eaae98bcf1ebe8a97d1/inflate64-1.0.0-cp310-cp310-manylinux_2_17_x86_64.manylinux2014_x86_64.whl.metadata\r\n",
      "  Downloading inflate64-1.0.0-cp310-cp310-manylinux_2_17_x86_64.manylinux2014_x86_64.whl.metadata (4.0 kB)\r\n",
      "Collecting brotli>=1.1.0 (from py7zr)\r\n",
      "  Obtaining dependency information for brotli>=1.1.0 from https://files.pythonhosted.org/packages/d5/00/40f760cc27007912b327fe15bf6bfd8eaecbe451687f72a8abc587d503b3/Brotli-1.1.0-cp310-cp310-manylinux_2_5_x86_64.manylinux1_x86_64.manylinux_2_12_x86_64.manylinux2010_x86_64.whl.metadata\r\n",
      "  Downloading Brotli-1.1.0-cp310-cp310-manylinux_2_5_x86_64.manylinux1_x86_64.manylinux_2_12_x86_64.manylinux2010_x86_64.whl.metadata (5.5 kB)\r\n",
      "Requirement already satisfied: psutil in /opt/conda/lib/python3.10/site-packages (from py7zr) (5.9.3)\r\n",
      "Downloading py7zr-0.20.8-py3-none-any.whl (67 kB)\r\n",
      "\u001b[2K   \u001b[90m━━━━━━━━━━━━━━━━━━━━━━━━━━━━━━━━━━━━━━━━\u001b[0m \u001b[32m67.0/67.0 kB\u001b[0m \u001b[31m1.2 MB/s\u001b[0m eta \u001b[36m0:00:00\u001b[0m\r\n",
      "\u001b[?25hDownloading Brotli-1.1.0-cp310-cp310-manylinux_2_5_x86_64.manylinux1_x86_64.manylinux_2_12_x86_64.manylinux2010_x86_64.whl (3.0 MB)\r\n",
      "\u001b[2K   \u001b[90m━━━━━━━━━━━━━━━━━━━━━━━━━━━━━━━━━━━━━━━━\u001b[0m \u001b[32m3.0/3.0 MB\u001b[0m \u001b[31m15.9 MB/s\u001b[0m eta \u001b[36m0:00:00\u001b[0m\r\n",
      "\u001b[?25hDownloading inflate64-1.0.0-cp310-cp310-manylinux_2_17_x86_64.manylinux2014_x86_64.whl (93 kB)\r\n",
      "\u001b[2K   \u001b[90m━━━━━━━━━━━━━━━━━━━━━━━━━━━━━━━━━━━━━━━━\u001b[0m \u001b[32m93.1/93.1 kB\u001b[0m \u001b[31m12.4 MB/s\u001b[0m eta \u001b[36m0:00:00\u001b[0m\r\n",
      "\u001b[?25hDownloading pybcj-1.0.2-cp310-cp310-manylinux_2_17_x86_64.manylinux2014_x86_64.whl (49 kB)\r\n",
      "\u001b[2K   \u001b[90m━━━━━━━━━━━━━━━━━━━━━━━━━━━━━━━━━━━━━━━━\u001b[0m \u001b[32m49.7/49.7 kB\u001b[0m \u001b[31m5.0 MB/s\u001b[0m eta \u001b[36m0:00:00\u001b[0m\r\n",
      "\u001b[?25hDownloading pycryptodomex-3.19.1-cp35-abi3-manylinux_2_17_x86_64.manylinux2014_x86_64.whl (2.1 MB)\r\n",
      "\u001b[2K   \u001b[90m━━━━━━━━━━━━━━━━━━━━━━━━━━━━━━━━━━━━━━━━\u001b[0m \u001b[32m2.1/2.1 MB\u001b[0m \u001b[31m79.1 MB/s\u001b[0m eta \u001b[36m0:00:00\u001b[0m\r\n",
      "\u001b[?25hDownloading pyppmd-1.1.0-cp310-cp310-manylinux_2_17_x86_64.manylinux2014_x86_64.whl (138 kB)\r\n",
      "\u001b[2K   \u001b[90m━━━━━━━━━━━━━━━━━━━━━━━━━━━━━━━━━━━━━━━━\u001b[0m \u001b[32m138.9/138.9 kB\u001b[0m \u001b[31m18.0 MB/s\u001b[0m eta \u001b[36m0:00:00\u001b[0m\r\n",
      "\u001b[?25hDownloading pyzstd-0.15.9-cp310-cp310-manylinux_2_17_x86_64.manylinux2014_x86_64.whl (412 kB)\r\n",
      "\u001b[2K   \u001b[90m━━━━━━━━━━━━━━━━━━━━━━━━━━━━━━━━━━━━━━━━\u001b[0m \u001b[32m412.3/412.3 kB\u001b[0m \u001b[31m40.7 MB/s\u001b[0m eta \u001b[36m0:00:00\u001b[0m\r\n",
      "\u001b[?25hInstalling collected packages: brotli, pyzstd, pyppmd, pycryptodomex, pybcj, multivolumefile, inflate64, py7zr\r\n",
      "Successfully installed brotli-1.1.0 inflate64-1.0.0 multivolumefile-0.2.3 py7zr-0.20.8 pybcj-1.0.2 pycryptodomex-3.19.1 pyppmd-1.1.0 pyzstd-0.15.9\r\n"
     ]
    }
   ],
   "source": [
    "\n",
    "!pip install py7zr \n",
    "\n",
    "import py7zr\n",
    "\n",
    "image_files = py7zr.SevenZipFile('/kaggle/input/invasive-species-monitoring/train.7z', 'r')\n",
    "image_files.extractall(path='/kaggle/working/data')\n",
    "image_files.close()\n",
    "\n",
    "test_image = py7zr.SevenZipFile('/kaggle/input/invasive-species-monitoring/test.7z', 'r')\n",
    "test_image.extractall(path='/kaggle/working/data')\n",
    "test_image.close()"
   ]
  },
  {
   "cell_type": "code",
   "execution_count": 3,
   "id": "5e4df441",
   "metadata": {
    "execution": {
     "iopub.execute_input": "2024-01-07T22:57:16.027551Z",
     "iopub.status.busy": "2024-01-07T22:57:16.027237Z",
     "iopub.status.idle": "2024-01-07T22:57:16.041919Z",
     "shell.execute_reply": "2024-01-07T22:57:16.041237Z"
    },
    "papermill": {
     "duration": 0.024622,
     "end_time": "2024-01-07T22:57:16.043740",
     "exception": false,
     "start_time": "2024-01-07T22:57:16.019118",
     "status": "completed"
    },
    "tags": []
   },
   "outputs": [],
   "source": [
    "import zipfile \n",
    "train_label = zipfile.ZipFile('/kaggle/input/invasive-species-monitoring/train_labels.csv.zip', 'r')\n",
    "train_label.extractall(path=\"/kaggle/working/data\")\n",
    "train_label.close()\n",
    "\n",
    "sub_label = zipfile.ZipFile('/kaggle/input/invasive-species-monitoring/sample_submission.csv.zip', 'r')\n",
    "sub_label.extractall(path=\"/kaggle/working/data\")\n",
    "sub_label.close()"
   ]
  },
  {
   "cell_type": "code",
   "execution_count": 4,
   "id": "24071a84",
   "metadata": {
    "execution": {
     "iopub.execute_input": "2024-01-07T22:57:16.058437Z",
     "iopub.status.busy": "2024-01-07T22:57:16.058178Z",
     "iopub.status.idle": "2024-01-07T22:57:17.146285Z",
     "shell.execute_reply": "2024-01-07T22:57:17.145436Z"
    },
    "papermill": {
     "duration": 1.097966,
     "end_time": "2024-01-07T22:57:17.148500",
     "exception": false,
     "start_time": "2024-01-07T22:57:16.050534",
     "status": "completed"
    },
    "scrolled": true,
    "tags": []
   },
   "outputs": [],
   "source": [
    "training_ds=pd.read_csv('/kaggle/working/data/train_labels.csv')\n",
    "training_ds.head()\n",
    "image_folder = '/kaggle/working/data/train/'\n",
    "image_paths = [os.path.join(image_folder, f\"{image_id}.jpg\") for image_id in training_ds.iloc[:, 0]]\n",
    "training_labels = tf.convert_to_tensor(training_ds.iloc[:, 1], dtype=tf.int32)"
   ]
  },
  {
   "cell_type": "code",
   "execution_count": 5,
   "id": "7cb409fa",
   "metadata": {
    "execution": {
     "iopub.execute_input": "2024-01-07T22:57:17.164747Z",
     "iopub.status.busy": "2024-01-07T22:57:17.164408Z",
     "iopub.status.idle": "2024-01-07T23:02:56.895512Z",
     "shell.execute_reply": "2024-01-07T23:02:56.894639Z"
    },
    "papermill": {
     "duration": 339.742108,
     "end_time": "2024-01-07T23:02:56.897986",
     "exception": false,
     "start_time": "2024-01-07T22:57:17.155878",
     "status": "completed"
    },
    "tags": []
   },
   "outputs": [],
   "source": [
    "import cv2\n",
    "from tensorflow.keras.preprocessing.image import load_img, img_to_array\n",
    "def process_image(image_path):\n",
    "    # Load image in BGR format\n",
    "    img_bgr = cv2.imread(image_path)\n",
    "    \n",
    "    # Convert BGR to RGB\n",
    "    img_rgb = cv2.cvtColor(img_bgr, cv2.COLOR_BGR2RGB)\n",
    "    \n",
    "    # Resize if needed\n",
    "    img_rgb = cv2.resize(img_rgb, (244, 244))  # Adjust size as needed\n",
    "    \n",
    "    # Convert to array\n",
    "    img_array = img_to_array(img_rgb)\n",
    "    \n",
    "    return img_array\n",
    "# Load and preprocess each image in the array\n",
    "image_tensors = [process_image(image_path) for image_path in image_paths]\n",
    "\n",
    "# Convert the list of image tensors to a TensorFlow tensor\n",
    "training_data = tf.convert_to_tensor(image_tensors)\n"
   ]
  },
  {
   "cell_type": "code",
   "execution_count": 6,
   "id": "f7e24cfd",
   "metadata": {
    "execution": {
     "iopub.execute_input": "2024-01-07T23:02:56.914142Z",
     "iopub.status.busy": "2024-01-07T23:02:56.913250Z",
     "iopub.status.idle": "2024-01-07T23:03:01.726578Z",
     "shell.execute_reply": "2024-01-07T23:03:01.725534Z"
    },
    "papermill": {
     "duration": 4.823732,
     "end_time": "2024-01-07T23:03:01.729069",
     "exception": false,
     "start_time": "2024-01-07T23:02:56.905337",
     "status": "completed"
    },
    "tags": []
   },
   "outputs": [],
   "source": [
    "import tensorflow as tf\n",
    "from sklearn.model_selection import train_test_split\n",
    "\n",
    "# Assuming 'your_dataset' is your TensorFlow dataset and 'your_labels' is your corresponding labels\n",
    "your_dataset = training_data # Replace with your actual dataset\n",
    "your_labels = training_labels  # Replace with your actual labels\n",
    "\n",
    "# Calculate the total number of samples\n",
    "num_samples = len(your_labels)\n",
    "\n",
    "# Convert the dataset and labels to NumPy arrays\n",
    "your_data_array = np.array(list(your_dataset))\n",
    "your_labels_array = np.array(list(your_labels))\n",
    "\n",
    "# Define the ratio for splitting (e.g., 80% training, 20% testing)\n",
    "train_ratio = 0.7\n",
    "test_ratio = 1 - train_ratio\n",
    "\n",
    "# Calculate the number of samples for training and testing\n",
    "num_train_samples = int(train_ratio * num_samples)\n",
    "\n",
    "# Split the dataset and labels into training and testing sets\n",
    "X_train, X_test, y_train, y_test = train_test_split(\n",
    "    your_data_array, your_labels_array, test_size=test_ratio, stratify=your_labels_array, random_state=42\n",
    ")\n",
    "\n"
   ]
  },
  {
   "cell_type": "code",
   "execution_count": null,
   "id": "d1d3d0ef",
   "metadata": {
    "papermill": {
     "duration": 0.006816,
     "end_time": "2024-01-07T23:03:01.743181",
     "exception": false,
     "start_time": "2024-01-07T23:03:01.736365",
     "status": "completed"
    },
    "tags": []
   },
   "outputs": [],
   "source": [
    "\n"
   ]
  },
  {
   "cell_type": "code",
   "execution_count": 7,
   "id": "ae4c6808",
   "metadata": {
    "execution": {
     "iopub.execute_input": "2024-01-07T23:03:01.758750Z",
     "iopub.status.busy": "2024-01-07T23:03:01.758448Z",
     "iopub.status.idle": "2024-01-07T23:06:48.467618Z",
     "shell.execute_reply": "2024-01-07T23:06:48.466549Z"
    },
    "papermill": {
     "duration": 226.719933,
     "end_time": "2024-01-07T23:06:48.470192",
     "exception": false,
     "start_time": "2024-01-07T23:03:01.750259",
     "status": "completed"
    },
    "tags": []
   },
   "outputs": [
    {
     "name": "stderr",
     "output_type": "stream",
     "text": [
      "/tmp/ipykernel_27/3259038925.py:8: FutureWarning: Series.__getitem__ treating keys as positions is deprecated. In a future version, integer keys will always be treated as labels (consistent with DataFrame behavior). To access a value by position, use `ser.iloc[pos]`\n",
      "  test_names.append(sample_submission.iloc[i][0])\n",
      "/tmp/ipykernel_27/3259038925.py:9: FutureWarning: Series.__getitem__ treating keys as positions is deprecated. In a future version, integer keys will always be treated as labels (consistent with DataFrame behavior). To access a value by position, use `ser.iloc[pos]`\n",
      "  file_paths.append( img_path + str(int(sample_submission.iloc[i][0])) +'.jpg' )\n"
     ]
    }
   ],
   "source": [
    "sample_submission = pd.read_csv(\"/kaggle/working/data/sample_submission.csv\")\n",
    "img_path = \"/kaggle/working/data/test/\"\n",
    "\n",
    "test_names = []\n",
    "file_paths = []\n",
    "\n",
    "for i in range(len(sample_submission)):\n",
    "    test_names.append(sample_submission.iloc[i][0])\n",
    "    file_paths.append( img_path + str(int(sample_submission.iloc[i][0])) +'.jpg' )\n",
    "    \n",
    "test_names = np.array(test_names)\n",
    "test_images = []\n",
    "for file_path in file_paths:\n",
    "    img_bgr = cv2.imread(file_path)\n",
    "    \n",
    "    # Convert BGR to RGB\n",
    "    img_rgb = cv2.cvtColor(img_bgr, cv2.COLOR_BGR2RGB)\n",
    "    \n",
    "    # Resize if needed\n",
    "    img_rgb = cv2.resize(img_rgb, (244, 244))  # Adjust size as needed\n",
    "    \n",
    "    # Convert to array\n",
    "    img_array = img_to_array(img_rgb)\n",
    "    test_images.append(img_array)\n",
    "    \n",
    "\n",
    "test_images = tf.convert_to_tensor(test_images)"
   ]
  },
  {
   "cell_type": "code",
   "execution_count": 8,
   "id": "4117776d",
   "metadata": {
    "execution": {
     "iopub.execute_input": "2024-01-07T23:06:48.486283Z",
     "iopub.status.busy": "2024-01-07T23:06:48.485927Z",
     "iopub.status.idle": "2024-01-07T23:06:49.523429Z",
     "shell.execute_reply": "2024-01-07T23:06:49.522490Z"
    },
    "papermill": {
     "duration": 1.05405,
     "end_time": "2024-01-07T23:06:49.531691",
     "exception": false,
     "start_time": "2024-01-07T23:06:48.477641",
     "status": "completed"
    },
    "tags": []
   },
   "outputs": [
    {
     "name": "stdout",
     "output_type": "stream",
     "text": [
      "Downloading data from https://storage.googleapis.com/tensorflow/keras-applications/vgg16/vgg16_weights_tf_dim_ordering_tf_kernels_notop.h5\n",
      "58889256/58889256 [==============================] - 0s 0us/step\n",
      "Model: \"sequential\"\n",
      "_________________________________________________________________\n",
      " Layer (type)                Output Shape              Param #   \n",
      "=================================================================\n",
      " vgg16 (Functional)          (None, 7, 7, 512)         14714688  \n",
      "                                                                 \n",
      " flatten (Flatten)           (None, 25088)             0         \n",
      "                                                                 \n",
      " dense (Dense)               (None, 256)               6422784   \n",
      "                                                                 \n",
      " batch_normalization (Batch  (None, 256)               1024      \n",
      " Normalization)                                                  \n",
      "                                                                 \n",
      " activation (Activation)     (None, 256)               0         \n",
      "                                                                 \n",
      " dropout (Dropout)           (None, 256)               0         \n",
      "                                                                 \n",
      " dense_1 (Dense)             (None, 128)               32896     \n",
      "                                                                 \n",
      " batch_normalization_1 (Bat  (None, 128)               512       \n",
      " chNormalization)                                                \n",
      "                                                                 \n",
      " activation_1 (Activation)   (None, 128)               0         \n",
      "                                                                 \n",
      " dropout_1 (Dropout)         (None, 128)               0         \n",
      "                                                                 \n",
      " dense_2 (Dense)             (None, 1)                 129       \n",
      "                                                                 \n",
      "=================================================================\n",
      "Total params: 21172033 (80.76 MB)\n",
      "Trainable params: 6456577 (24.63 MB)\n",
      "Non-trainable params: 14715456 (56.14 MB)\n",
      "_________________________________________________________________\n"
     ]
    }
   ],
   "source": [
    "from tensorflow.keras.applications.vgg16 import VGG16\n",
    "from tensorflow.keras.applications.vgg16 import preprocess_input\n",
    "from keras.models import Sequential, Model, load_model\n",
    "from keras import applications\n",
    "from keras import optimizers\n",
    "from keras.layers import Dropout, Flatten, Dense\n",
    "from tensorflow.keras.preprocessing.image import ImageDataGenerator\n",
    "\n",
    "# Now you can use ImageDataGenerator in your code\n",
    "\n",
    "## Loading VGG16 model\n",
    "base_model = VGG16(weights=\"imagenet\", include_top=False, input_shape=training_data[0].shape)\n",
    "fine_tune = 0\n",
    "if fine_tune > 0:\n",
    "    for layer in base_model.layers[:-fine_tune]:\n",
    "        layer.trainable = False\n",
    "else:\n",
    "    for layer in base_model.layers:\n",
    "        layer.trainable = False\n",
    "\n",
    "## Preprocessing input\n",
    "training_data = preprocess_input(training_data)\n",
    "test_images = preprocess_input(test_images)\n",
    "\n",
    "from tensorflow.keras import layers, models\n",
    "\n",
    "flatten_layer = layers.Flatten(input_shape=base_model.output_shape[1:])\n",
    "dense_layer_1 = layers.Dense(256, activation='relu')\n",
    "batch_norm_1 = layers.BatchNormalization()\n",
    "dropout_1 = layers.Dropout(0.2)\n",
    "dense_layer_2 = layers.Dense(128, activation='relu')\n",
    "batch_norm_2 = layers.BatchNormalization()\n",
    "dropout_2 = layers.Dropout(0.2)\n",
    "prediction_layer = layers.Dense(1, activation='sigmoid')\n",
    "\n",
    "\n",
    "model = models.Sequential([\n",
    "    base_model,\n",
    "    flatten_layer,\n",
    "    dense_layer_1,\n",
    "    batch_norm_1,  \n",
    "    layers.Activation('relu'),  \n",
    "    dropout_1,\n",
    "    dense_layer_2,\n",
    "    batch_norm_2,  \n",
    "    layers.Activation('relu'),  \n",
    "    dropout_2,\n",
    "    prediction_layer\n",
    "])\n",
    "from tensorflow.keras.callbacks import EarlyStopping\n",
    "\n",
    "model.compile(\n",
    "    optimizer=optimizers.Adam(lr=1e-4),\n",
    "    loss='binary_crossentropy',\n",
    "    metrics=['accuracy'],\n",
    ")\n",
    "model.summary()"
   ]
  },
  {
   "cell_type": "code",
   "execution_count": 9,
   "id": "1d37a025",
   "metadata": {
    "execution": {
     "iopub.execute_input": "2024-01-07T23:06:49.553660Z",
     "iopub.status.busy": "2024-01-07T23:06:49.553343Z",
     "iopub.status.idle": "2024-01-07T23:13:45.699321Z",
     "shell.execute_reply": "2024-01-07T23:13:45.698095Z"
    },
    "papermill": {
     "duration": 416.159584,
     "end_time": "2024-01-07T23:13:45.701472",
     "exception": false,
     "start_time": "2024-01-07T23:06:49.541888",
     "status": "completed"
    },
    "tags": []
   },
   "outputs": [
    {
     "name": "stdout",
     "output_type": "stream",
     "text": [
      "Epoch 1/50\n",
      "50/50 [==============================] - 36s 539ms/step - loss: 0.4217 - accuracy: 0.8100 - val_loss: 0.2749 - val_accuracy: 0.9187\n",
      "Epoch 2/50\n",
      "50/50 [==============================] - 22s 439ms/step - loss: 0.2845 - accuracy: 0.8748 - val_loss: 0.2593 - val_accuracy: 0.9100\n",
      "Epoch 3/50\n",
      "50/50 [==============================] - 22s 439ms/step - loss: 0.2758 - accuracy: 0.8901 - val_loss: 0.3001 - val_accuracy: 0.8882\n",
      "Epoch 4/50\n",
      "50/50 [==============================] - 23s 451ms/step - loss: 0.2398 - accuracy: 0.9053 - val_loss: 0.2630 - val_accuracy: 0.8984\n",
      "Epoch 5/50\n",
      "50/50 [==============================] - 23s 451ms/step - loss: 0.2261 - accuracy: 0.9022 - val_loss: 0.1828 - val_accuracy: 0.9289\n",
      "Epoch 6/50\n",
      "50/50 [==============================] - 22s 436ms/step - loss: 0.2196 - accuracy: 0.9244 - val_loss: 0.2879 - val_accuracy: 0.8926\n",
      "Epoch 7/50\n",
      "50/50 [==============================] - 22s 444ms/step - loss: 0.2005 - accuracy: 0.9269 - val_loss: 0.1865 - val_accuracy: 0.9231\n",
      "Epoch 8/50\n",
      "50/50 [==============================] - 22s 439ms/step - loss: 0.2086 - accuracy: 0.9187 - val_loss: 0.1619 - val_accuracy: 0.9405\n",
      "Epoch 9/50\n",
      "50/50 [==============================] - 22s 445ms/step - loss: 0.1840 - accuracy: 0.9250 - val_loss: 0.1976 - val_accuracy: 0.9347\n",
      "Epoch 10/50\n",
      "50/50 [==============================] - 22s 444ms/step - loss: 0.1667 - accuracy: 0.9339 - val_loss: 0.1820 - val_accuracy: 0.9347\n",
      "Epoch 11/50\n",
      "50/50 [==============================] - 22s 437ms/step - loss: 0.1833 - accuracy: 0.9333 - val_loss: 0.1752 - val_accuracy: 0.9318\n",
      "Epoch 12/50\n",
      "50/50 [==============================] - 22s 441ms/step - loss: 0.1647 - accuracy: 0.9307 - val_loss: 0.1769 - val_accuracy: 0.9361\n",
      "Epoch 13/50\n",
      "50/50 [==============================] - 22s 439ms/step - loss: 0.1688 - accuracy: 0.9377 - val_loss: 0.1805 - val_accuracy: 0.9303\n",
      "Epoch 14/50\n",
      "50/50 [==============================] - 22s 438ms/step - loss: 0.1434 - accuracy: 0.9435 - val_loss: 0.1953 - val_accuracy: 0.9318\n",
      "Epoch 15/50\n",
      "50/50 [==============================] - 23s 458ms/step - loss: 0.1328 - accuracy: 0.9460 - val_loss: 0.1915 - val_accuracy: 0.9405\n",
      "Epoch 16/50\n",
      "50/50 [==============================] - 23s 454ms/step - loss: 0.1238 - accuracy: 0.9492 - val_loss: 0.2455 - val_accuracy: 0.9260\n",
      "Epoch 17/50\n",
      "50/50 [==============================] - 22s 441ms/step - loss: 0.1402 - accuracy: 0.9517 - val_loss: 0.1733 - val_accuracy: 0.9318\n",
      "Epoch 18/50\n",
      "50/50 [==============================] - 22s 444ms/step - loss: 0.1368 - accuracy: 0.9517 - val_loss: 0.2138 - val_accuracy: 0.9202\n"
     ]
    }
   ],
   "source": [
    "train_datagen = ImageDataGenerator(\n",
    "        rotation_range=30, \n",
    "        width_shift_range=0.1,\n",
    "        height_shift_range=0.1, \n",
    "        horizontal_flip=True)\n",
    "train_datagen.fit(X_train)\n",
    "\n",
    "\n",
    "es = EarlyStopping(monitor='val_accuracy', mode='max', patience=10,  restore_best_weights=True)\n",
    "\n",
    "history = model.fit(train_datagen.flow(X_train, y_train, batch_size=32),steps_per_epoch=X_train.shape[0] // 32, epochs=50, validation_data=(X_test,y_test), batch_size=32, callbacks=[es])"
   ]
  },
  {
   "cell_type": "code",
   "execution_count": 10,
   "id": "7f6669a6",
   "metadata": {
    "execution": {
     "iopub.execute_input": "2024-01-07T23:13:45.869823Z",
     "iopub.status.busy": "2024-01-07T23:13:45.869495Z",
     "iopub.status.idle": "2024-01-07T23:13:46.527973Z",
     "shell.execute_reply": "2024-01-07T23:13:46.527074Z"
    },
    "papermill": {
     "duration": 0.743118,
     "end_time": "2024-01-07T23:13:46.530271",
     "exception": false,
     "start_time": "2024-01-07T23:13:45.787153",
     "status": "completed"
    },
    "tags": []
   },
   "outputs": [
    {
     "data": {
      "text/plain": [
       "<matplotlib.legend.Legend at 0x7ee309693370>"
      ]
     },
     "execution_count": 10,
     "metadata": {},
     "output_type": "execute_result"
    },
    {
     "data": {
      "image/png": "[encoded data removed]",
      "text/plain": [
       "<Figure size 1400x600 with 2 Axes>"
      ]
     },
     "metadata": {},
     "output_type": "display_data"
    }
   ],
   "source": [
    "import matplotlib.pyplot as plt\n",
    "\n",
    "history_dict = history.history\n",
    "loss_values = history_dict['loss']\n",
    "val_loss_values = history_dict['val_loss']\n",
    "accuracy = history_dict['accuracy']\n",
    "val_accuracy = history_dict['val_accuracy']\n",
    "\n",
    "epochs = range(1, len(loss_values) + 1)\n",
    "fig, ax = plt.subplots(1, 2, figsize=(14, 6))\n",
    "#\n",
    "# Plot the model accuracy vs Epochs\n",
    "#\n",
    "ax[0].plot(epochs, accuracy, 'r', label='Training accuracy')\n",
    "ax[0].plot(epochs, val_accuracy, 'b', label='Validation accuracy')\n",
    "ax[0].set_title('Training & Validation Accuracy', fontsize=16)\n",
    "ax[0].set_xlabel('Epochs', fontsize=16)\n",
    "ax[0].set_ylabel('Accuracy', fontsize=16)\n",
    "ax[0].legend()\n",
    "#\n",
    "# Plot the loss vs Epochs\n",
    "#\n",
    "ax[1].plot(epochs, loss_values, 'r', label='Training loss')\n",
    "ax[1].plot(epochs, val_loss_values, 'b', label='Validation loss')\n",
    "ax[1].set_title('Training & Validation Loss', fontsize=16)\n",
    "ax[1].set_xlabel('Epochs', fontsize=16)\n",
    "ax[1].set_ylabel('Loss', fontsize=16)\n",
    "ax[1].legend()"
   ]
  },
  {
   "cell_type": "code",
   "execution_count": 11,
   "id": "816c8be4",
   "metadata": {
    "execution": {
     "iopub.execute_input": "2024-01-07T23:13:46.716724Z",
     "iopub.status.busy": "2024-01-07T23:13:46.716386Z",
     "iopub.status.idle": "2024-01-07T23:13:46.722326Z",
     "shell.execute_reply": "2024-01-07T23:13:46.721426Z"
    },
    "papermill": {
     "duration": 0.11,
     "end_time": "2024-01-07T23:13:46.724230",
     "exception": false,
     "start_time": "2024-01-07T23:13:46.614230",
     "status": "completed"
    },
    "tags": []
   },
   "outputs": [
    {
     "name": "stdout",
     "output_type": "stream",
     "text": [
      "Training loss: 0.14 / Validation loss: 0.21\n",
      "Training accuracy: 95.17% / Validation accuracy: 92.02%\n"
     ]
    }
   ],
   "source": [
    "print(\"Training loss: {:.2f} / Validation loss: {:.2f}\".\\\n",
    "      format(history.history['loss'][-1], history.history['val_loss'][-1]))\n",
    "print(\"Training accuracy: {:.2f}% / Validation accuracy: {:.2f}%\".\\\n",
    "      format(100*history.history['accuracy'][-1], 100*history.history['val_accuracy'][-1]))"
   ]
  },
  {
   "cell_type": "code",
   "execution_count": 12,
   "id": "347891af",
   "metadata": {
    "execution": {
     "iopub.execute_input": "2024-01-07T23:13:46.892157Z",
     "iopub.status.busy": "2024-01-07T23:13:46.891218Z",
     "iopub.status.idle": "2024-01-07T23:14:00.536370Z",
     "shell.execute_reply": "2024-01-07T23:14:00.535375Z"
    },
    "papermill": {
     "duration": 13.731016,
     "end_time": "2024-01-07T23:14:00.538646",
     "exception": false,
     "start_time": "2024-01-07T23:13:46.807630",
     "status": "completed"
    },
    "tags": []
   },
   "outputs": [
    {
     "name": "stdout",
     "output_type": "stream",
     "text": [
      "48/48 [==============================] - 13s 265ms/step\n"
     ]
    }
   ],
   "source": [
    "predictions = model.predict(test_images)"
   ]
  },
  {
   "cell_type": "code",
   "execution_count": 13,
   "id": "80455975",
   "metadata": {
    "execution": {
     "iopub.execute_input": "2024-01-07T23:14:00.715201Z",
     "iopub.status.busy": "2024-01-07T23:14:00.714842Z",
     "iopub.status.idle": "2024-01-07T23:14:01.183150Z",
     "shell.execute_reply": "2024-01-07T23:14:01.182210Z"
    },
    "papermill": {
     "duration": 0.557612,
     "end_time": "2024-01-07T23:14:01.185383",
     "exception": false,
     "start_time": "2024-01-07T23:14:00.627771",
     "status": "completed"
    },
    "tags": []
   },
   "outputs": [],
   "source": [
    "sample_submission = pd.read_csv(\"/kaggle/working/data/sample_submission.csv\")\n",
    "\n",
    "for i, name in enumerate(test_names):\n",
    "    inv = 0\n",
    "    if(predictions[i] > 0.5) :\n",
    "        inv =1\n",
    "    else:\n",
    "        inv=0\n",
    "    sample_submission.loc[sample_submission['name'] == name, 'invasive'] =  inv\n",
    "\n",
    "sample_submission.to_csv(\"submit.csv\", index=False)"
   ]
  }
 ],
 "metadata": {
  "kaggle": {
   "accelerator": "nvidiaTeslaT4",
   "dataSources": [
    {
     "databundleVersionId": 46672,
     "sourceId": 6469,
     "sourceType": "competition"
    }
   ],
   "dockerImageVersionId": 30627,
   "isGpuEnabled": true,
   "isInternetEnabled": true,
   "language": "python",
   "sourceType": "notebook"
  },
  "kernelspec": {
   "display_name": "Python 3",
   "language": "python",
   "name": "python3"
  },
  "language_info": {
   "codemirror_mode": {
    "name": "ipython",
    "version": 3
   },
   "file_extension": ".py",
   "mimetype": "text/x-python",
   "name": "python",
   "nbconvert_exporter": "python",
   "pygments_lexer": "ipython3",
   "version": "3.10.12"
  },
  "papermill": {
   "default_parameters": {},
   "duration": 1285.157065,
   "end_time": "2024-01-07T23:14:04.839631",
   "environment_variables": {},
   "exception": null,
   "input_path": "__notebook__.ipynb",
   "output_path": "__notebook__.ipynb",
   "parameters": {},
   "start_time": "2024-01-07T22:52:39.682566",
   "version": "2.4.0"
  }
 },
 "nbformat": 4,
 "nbformat_minor": 5
}
